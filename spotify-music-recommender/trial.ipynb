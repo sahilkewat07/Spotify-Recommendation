{
 "cells": [
  {
   "cell_type": "markdown",
   "id": "d3b0c9b2",
   "metadata": {},
   "source": [
    "### Float Sum"
   ]
  },
  {
   "cell_type": "code",
   "execution_count": null,
   "id": "a734bbb0",
   "metadata": {},
   "outputs": [
    {
     "name": "stdout",
     "output_type": "stream",
     "text": [
      "Sum : 11.7\n"
     ]
    }
   ],
   "source": [
    "def floatSum(a,b):\n",
    "    print(\"Sum :\", a+b)\n",
    "    return\n",
    "num1 = 5.8\n",
    "num2 = 5.9\n",
    "floatSum(num1,num2)\n",
    "\n"
   ]
  },
  {
   "cell_type": "markdown",
   "id": "af96a4a6",
   "metadata": {},
   "source": []
  },
  {
   "cell_type": "markdown",
   "id": "995df14f",
   "metadata": {},
   "source": [
    "### Friend circle\n"
   ]
  },
  {
   "cell_type": "code",
   "execution_count": 1,
   "id": "28993d6f",
   "metadata": {},
   "outputs": [
    {
     "name": "stdout",
     "output_type": "stream",
     "text": [
      "sahil \n",
      " kewat \n",
      " nothing \n",
      "\n"
     ]
    }
   ],
   "source": [
    "fName = input(\"Enter first name: \")\n",
    "lName = input(\"Enter last name: \")\n",
    "hobby = input(\"Enter Hobbies: \")\n",
    "favEvent = input(\"Enter your favourite event: \")\n",
    "\n",
    "print(fName,\"\\n\",lName,\"\\n\",hobby,\"\\n\")"
   ]
  },
  {
   "cell_type": "markdown",
   "id": "f8a80088",
   "metadata": {},
   "source": [
    "### Area of Circle\n"
   ]
  },
  {
   "cell_type": "code",
   "execution_count": 2,
   "id": "3d6be4e1",
   "metadata": {},
   "outputs": [
    {
     "name": "stdout",
     "output_type": "stream",
     "text": [
      "Area:  78.5\n"
     ]
    }
   ],
   "source": [
    "r = int(input(\"Enter radius: \"))\n",
    "area = 3.14 * (r **2)\n",
    "print(\"Area: \",area)"
   ]
  },
  {
   "cell_type": "markdown",
   "id": "815dd7c4",
   "metadata": {},
   "source": [
    "### Vote Eligible"
   ]
  },
  {
   "cell_type": "markdown",
   "id": "d21a8eb7",
   "metadata": {},
   "source": []
  },
  {
   "cell_type": "code",
   "execution_count": 30,
   "id": "93920704",
   "metadata": {},
   "outputs": [
    {
     "name": "stdout",
     "output_type": "stream",
     "text": [
      "sabr kar le thoda😂\n"
     ]
    }
   ],
   "source": [
    "age = int(input(\"Enter your age: \"))\n",
    "if(age>=18):\n",
    "    print(\"Eligible to vote :)\")\n",
    "else:\n",
    "    print(\"sabr kar le thoda😂\")"
   ]
  },
  {
   "cell_type": "markdown",
   "id": "f413a224",
   "metadata": {},
   "source": [
    "### Pswd authentication"
   ]
  },
  {
   "cell_type": "code",
   "execution_count": null,
   "id": "a12a5a86",
   "metadata": {},
   "outputs": [
    {
     "ename": "SyntaxError",
     "evalue": "'break' outside loop (2484835884.py, line 7)",
     "output_type": "error",
     "traceback": [
      "  \u001b[36mCell\u001b[39m\u001b[36m \u001b[39m\u001b[32mIn[6]\u001b[39m\u001b[32m, line 7\u001b[39m\n\u001b[31m    \u001b[39m\u001b[31mbreak\u001b[39m\n    ^\n\u001b[31mSyntaxError\u001b[39m\u001b[31m:\u001b[39m 'break' outside loop\n"
     ]
    }
   ],
   "source": [
    "count = 0\n",
    "pswd = \"codeWithDJ1727\"\n",
    "if(count <= 3):\n",
    "    checkPswd = input(\"Enter passwrod: \")\n",
    "    if(pswd == checkPswd):\n",
    "        print(\"Correct password\")\n",
    "        break\n",
    "    else:\n",
    "        print(\"wrong pswd\")\n",
    "    count = count+1\n",
    "\n",
    "    \n"
   ]
  },
  {
   "cell_type": "markdown",
   "id": "baf5fa68",
   "metadata": {},
   "source": [
    "### List"
   ]
  },
  {
   "cell_type": "code",
   "execution_count": 21,
   "id": "ca1450ec",
   "metadata": {},
   "outputs": [
    {
     "name": "stdout",
     "output_type": "stream",
     "text": [
      "[{'Item': 'Laptop', 'Price': 76500}]\n",
      "[{'Item': 'Laptop', 'Price': 76500}, {'Item': 'Mouse', 'Price': 250}]\n"
     ]
    },
    {
     "ename": "TypeError",
     "evalue": "list indices must be integers or slices, not dict",
     "output_type": "error",
     "traceback": [
      "\u001b[31m---------------------------------------------------------------------------\u001b[39m",
      "\u001b[31mTypeError\u001b[39m                                 Traceback (most recent call last)",
      "\u001b[36mCell\u001b[39m\u001b[36m \u001b[39m\u001b[32mIn[21]\u001b[39m\u001b[32m, line 8\u001b[39m\n\u001b[32m      6\u001b[39m \u001b[38;5;28msum\u001b[39m = \u001b[32m0\u001b[39m\n\u001b[32m      7\u001b[39m \u001b[38;5;28;01mfor\u001b[39;00m i \u001b[38;5;129;01min\u001b[39;00m cart:\n\u001b[32m----> \u001b[39m\u001b[32m8\u001b[39m     \u001b[38;5;28msum\u001b[39m = \u001b[38;5;28msum\u001b[39m + \u001b[43mcart\u001b[49m\u001b[43m[\u001b[49m\u001b[43mi\u001b[49m\u001b[43m]\u001b[49m[\u001b[33m\"\u001b[39m\u001b[33mPrice\u001b[39m\u001b[33m\"\u001b[39m]\n\u001b[32m      9\u001b[39m \u001b[38;5;28mprint\u001b[39m(\u001b[38;5;28msum\u001b[39m)\n",
      "\u001b[31mTypeError\u001b[39m: list indices must be integers or slices, not dict"
     ]
    }
   ],
   "source": [
    "cart = []\n",
    "cart.append({\"Item\":\"Laptop\", \"Price\":76500})\n",
    "print(cart)\n",
    "cart.append({\"Item\":\"Mouse\", \"Price\":250})\n",
    "print(cart)\n",
    "sum = 0\n",
    "for i in cart:\n",
    "    sum = sum + cart[i][\"Price\"]\n",
    "print(sum)\n",
    "    "
   ]
  },
  {
   "cell_type": "markdown",
   "id": "f3fc73da",
   "metadata": {},
   "source": [
    "### Latitude and Longitude Distance"
   ]
  },
  {
   "cell_type": "code",
   "execution_count": 22,
   "id": "0ac4b8a9",
   "metadata": {},
   "outputs": [],
   "source": [
    "#use distance formula"
   ]
  },
  {
   "cell_type": "markdown",
   "id": "922a4b6e",
   "metadata": {},
   "source": [
    "### Remove Duplicates"
   ]
  },
  {
   "cell_type": "code",
   "execution_count": null,
   "id": "8ab3dc23",
   "metadata": {},
   "outputs": [],
   "source": [
    "listt = [\"a\", \"b\", \"e\", \"a\", \"a\", \"x\"]\n",
    "for i in range(len(listt)-1):\n",
    "    if(list[i] == list[i+1]):\n",
    "        "
   ]
  },
  {
   "cell_type": "markdown",
   "id": "030af246",
   "metadata": {},
   "source": [
    "### Even Odd check"
   ]
  },
  {
   "cell_type": "code",
   "execution_count": 25,
   "id": "f1e054e6",
   "metadata": {},
   "outputs": [
    {
     "name": "stdout",
     "output_type": "stream",
     "text": [
      "Number is not even\n",
      "Odd\n"
     ]
    }
   ],
   "source": [
    "number = int(input(\"Enter number: \"))\n",
    "if(number % 2 == 0):\n",
    "    print(\"Given number is even\")\n",
    "else:\n",
    "    print(\"Number is not even\")\n",
    "r = \"Even\" if number%2 == 0 else \"Odd\"\n",
    "print(r)"
   ]
  },
  {
   "cell_type": "markdown",
   "id": "451535f1",
   "metadata": {},
   "source": []
  },
  {
   "cell_type": "code",
   "execution_count": null,
   "id": "d8c485e7",
   "metadata": {},
   "outputs": [],
   "source": []
  },
  {
   "cell_type": "markdown",
   "id": "13e29a7e",
   "metadata": {},
   "source": [
    "### ternary operator"
   ]
  },
  {
   "cell_type": "code",
   "execution_count": null,
   "id": "06cf9a5a",
   "metadata": {},
   "outputs": [],
   "source": [
    "# Using tuple indexing\n",
    "num = 7\n",
    "result = (\"Odd\", \"Even\")[num % 2 == 0]\n",
    "print(result)  # Output: Odd\n",
    "\n",
    "# Using dictionary mapping\n",
    "a, b = 10, 20\n",
    "max_value = {True: a, False: b}[a > b]\n",
    "print(max_value)  # Output: 20\n",
    "\n",
    "# Using lambda function\n",
    "max_value = (lambda x, y: x if x > y else y)(a, b)\n",
    "print(max_value)  # Output: 20"
   ]
  },
  {
   "cell_type": "markdown",
   "id": "f2ad9919",
   "metadata": {},
   "source": [
    "### Grading System"
   ]
  },
  {
   "cell_type": "code",
   "execution_count": null,
   "id": "003b66fe",
   "metadata": {},
   "outputs": [
    {
     "name": "stdout",
     "output_type": "stream",
     "text": [
      "B\n"
     ]
    }
   ],
   "source": [
    "marks = float(input(\"Enter marks: \"))\n",
    "result = \"A\" if marks>=90 else \"B\" if marks >= 75 else \"C\" if marks>=33 else \"D\" \n",
    "at = print(result) if att>"
   ]
  },
  {
   "cell_type": "markdown",
   "id": "07dd2f89",
   "metadata": {},
   "source": [
    "### Creating a list of cube of odd numbers between 1 to 20"
   ]
  },
  {
   "cell_type": "code",
   "execution_count": 29,
   "id": "4f242671",
   "metadata": {},
   "outputs": [
    {
     "name": "stdout",
     "output_type": "stream",
     "text": [
      "[1, 27, 125, 343, 729, 1331, 2197, 3375, 4913, 6859]\n"
     ]
    }
   ],
   "source": [
    "li = []\n",
    "for i in range(1,21):\n",
    "    if(i%2 != 0):\n",
    "        li.append(i**3)\n",
    "print(li)"
   ]
  },
  {
   "cell_type": "markdown",
   "id": "f3b3221b",
   "metadata": {},
   "source": [
    "### Conditional Statements\n"
   ]
  },
  {
   "cell_type": "code",
   "execution_count": null,
   "id": "4092d018",
   "metadata": {},
   "outputs": [],
   "source": [
    "# Weather check\n",
    "temp = float(input(\"Enter temperature: \"))\n",
    "humid = float(input(\"Enter humidity: \"))\n",
    "\n",
    "if(temp > 35 and humid>)"
   ]
  },
  {
   "cell_type": "markdown",
   "id": "294372b5",
   "metadata": {},
   "source": [
    "### Discounts"
   ]
  },
  {
   "cell_type": "code",
   "execution_count": 31,
   "id": "20ed6dba",
   "metadata": {},
   "outputs": [
    {
     "name": "stdout",
     "output_type": "stream",
     "text": [
      "10% off\n",
      "135.0\n"
     ]
    }
   ],
   "source": [
    "isStudent = True\n",
    "amount = 150\n",
    "age = int(input(\"Enter age: \"))\n",
    "discount=0\n",
    "isFirstTime = False\n",
    "if age <30 and isStudent:\n",
    "    print(\"20% off\")\n",
    "    discount = 0.20\n",
    "elif age > 60 and isFirstTime :\n",
    "    print(\"15% off\")\n",
    "    discount=0.15\n",
    "elif amount>100 and (not(isFirstTime)):\n",
    "    discount=0.10\n",
    "    print(\"10% off\")\n",
    "else:\n",
    "    print(\"No discount applied\")\n",
    "finalPrice = amount * (1-discount)\n",
    "print(finalPrice)"
   ]
  },
  {
   "cell_type": "markdown",
   "id": "1214d1fd",
   "metadata": {},
   "source": [
    "### Age Classifiaction"
   ]
  },
  {
   "cell_type": "code",
   "execution_count": null,
   "id": "9c28ad94",
   "metadata": {},
   "outputs": [
    {
     "name": "stdout",
     "output_type": "stream",
     "text": [
      "Wow that's really old!\n"
     ]
    }
   ],
   "source": [
    "def classifyAge(age):\n",
    "    return \"invalid age\" if age <= 0 else \"Child\" if age<13 else \"teenager\" if age<20 else \"Adult\" if age<60 else \"senior\" if age<120 else \"Wow that's really old!\"\n",
    "age = int(input(\"Enter age: \"))\n",
    "conc = classifyAge(age)\n",
    "print(conc)"
   ]
  },
  {
   "cell_type": "markdown",
   "id": "8231ced4",
   "metadata": {},
   "source": []
  },
  {
   "cell_type": "markdown",
   "id": "2d6b3e5b",
   "metadata": {},
   "source": [
    "### Basic COunter"
   ]
  },
  {
   "cell_type": "code",
   "execution_count": 1,
   "id": "9fab738e",
   "metadata": {},
   "outputs": [
    {
     "name": "stdout",
     "output_type": "stream",
     "text": [
      "Count 0\n",
      "Count 1\n",
      "Count 2\n",
      "Count 3\n",
      "Count 4\n",
      "10\n",
      "11\n",
      "12\n",
      "13\n",
      "14\n",
      "15\n"
     ]
    }
   ],
   "source": [
    "count = 0\n",
    "while count <5:\n",
    "    print(f\"Count {count}\")\n",
    "    count += 1\n",
    "\n",
    "# Break in while loop\n",
    "a = 10\n",
    "while (a <20):\n",
    "    if(a == 16):\n",
    "        break\n",
    "    print(a)\n",
    "    a += 1"
   ]
  },
  {
   "cell_type": "markdown",
   "id": "bcf063b6",
   "metadata": {},
   "source": []
  },
  {
   "cell_type": "markdown",
   "id": "817f6452",
   "metadata": {},
   "source": [
    "### functions in Python"
   ]
  },
  {
   "cell_type": "code",
   "execution_count": null,
   "id": "e7867e7e",
   "metadata": {},
   "outputs": [
    {
     "name": "stdout",
     "output_type": "stream",
     "text": [
      "Area of Rectangle:  125 cm\n"
     ]
    }
   ],
   "source": [
    "def area(l,b,h):\n",
    "    return l*b*h\n",
    "l = int(input(\"Enter length of rectangle: \"))\n",
    "b = int(input(\"Enter breadth of rectangle: \"))\n",
    "h = int(input(\"Enter height of rectangel: \"))\n",
    "print(\"Area of Rectangle: \", area(l,b,h), \"cm\")\n"
   ]
  },
  {
   "cell_type": "code",
   "execution_count": 6,
   "id": "0a7741ca",
   "metadata": {},
   "outputs": [
    {
     "name": "stdout",
     "output_type": "stream",
     "text": [
      "Temperature in Fahrenheit:  212.0\n"
     ]
    }
   ],
   "source": [
    "#temp converter\n",
    "def c_to_f(temp):\n",
    "    f = (temp*(9/5)) + 32\n",
    "    return f\n",
    "tempC = int(input(\"Enter temperature in Celcius: \"))\n",
    "print(\"Temperature in Fahrenheit: \", c_to_f(tempC))"
   ]
  },
  {
   "cell_type": "markdown",
   "id": "4a0ef798",
   "metadata": {},
   "source": []
  },
  {
   "cell_type": "markdown",
   "id": "51685ad4",
   "metadata": {},
   "source": [
    "### Map function"
   ]
  },
  {
   "cell_type": "code",
   "execution_count": 11,
   "id": "4e0312ea",
   "metadata": {},
   "outputs": [
    {
     "name": "stdout",
     "output_type": "stream",
     "text": [
      "[1, 4, 9, 16]\n",
      "[6, 8, 10, 12]\n",
      "['MOHAN', 'BHAIRAVI', 'HIMANSHI', 'DJ', 'SHIVAM']\n"
     ]
    }
   ],
   "source": [
    "li = [1,2,3,4]\n",
    "sq = list(map(lambda  x: x**2, li))\n",
    "print(sq)\n",
    "\n",
    "arr1 = [1,2,3,4]\n",
    "arr2 = [5,6,7,8]\n",
    "sum = list(map(lambda x,y: x+y, arr1,arr2))\n",
    "print(sum)\n",
    "\n",
    "names = [\"mohan\", \"bhairavi\", \"himanshi\", \"dj\", \"shivam\"]\n",
    "upper_name = list(map(lambda n: n.upper(), names))\n",
    "print(upper_name)"
   ]
  },
  {
   "cell_type": "markdown",
   "id": "161dc883",
   "metadata": {},
   "source": [
    "### filter functiom"
   ]
  },
  {
   "cell_type": "code",
   "execution_count": 13,
   "id": "e1f09ce9",
   "metadata": {},
   "outputs": [
    {
     "name": "stdout",
     "output_type": "stream",
     "text": [
      "['python', 'powerful', 'awesome']\n"
     ]
    }
   ],
   "source": [
    "li = [\"python\", \"is\", \"powerful\", \"and\", \"awesome\"]\n",
    "long_words = list(filter(lambda f: len(f)>4, li))\n",
    "print(long_words)"
   ]
  },
  {
   "cell_type": "markdown",
   "id": "2fe6e154",
   "metadata": {},
   "source": [
    "### reduce function"
   ]
  },
  {
   "cell_type": "code",
   "execution_count": 14,
   "id": "986e1deb",
   "metadata": {},
   "outputs": [
    {
     "name": "stdout",
     "output_type": "stream",
     "text": [
      "15\n"
     ]
    }
   ],
   "source": [
    "from functools import reduce\n",
    "n = [1,2,3,4,5]\n",
    "total = reduce(lambda x,y: x+y, n)\n",
    "print(total)"
   ]
  },
  {
   "cell_type": "markdown",
   "id": "03dbde48",
   "metadata": {},
   "source": [
    "### Lambda function"
   ]
  },
  {
   "cell_type": "code",
   "execution_count": 16,
   "id": "a3a7f0b9",
   "metadata": {},
   "outputs": [
    {
     "name": "stdout",
     "output_type": "stream",
     "text": [
      "[4, 16, 36, 64, 100]\n"
     ]
    }
   ],
   "source": [
    "#it is also known anonymous function\n",
    "num = [2,4,6,8,10]\n",
    "result = list(map(lambda x: x**2, num))\n",
    "print(result)"
   ]
  },
  {
   "cell_type": "markdown",
   "id": "09193095",
   "metadata": {},
   "source": [
    "### types of arguments"
   ]
  },
  {
   "cell_type": "code",
   "execution_count": 18,
   "id": "4ef96bdb",
   "metadata": {},
   "outputs": [
    {
     "name": "stdout",
     "output_type": "stream",
     "text": [
      "11\n",
      "MySelf dJ from roorkee and I'm 18 years old\n"
     ]
    }
   ],
   "source": [
    "def positionalArgs(a,b):\n",
    "    return a+b\n",
    "\n",
    "def keywordArgs(name,age,city):\n",
    "    print(f\"MySelf {name} from {city} and I'm {age} years old\")\n",
    "    return\n",
    "\n",
    "x = 5\n",
    "y = 6\n",
    "print(positionalArgs(x,y))\n",
    "\n",
    "keywordArgs(age=18, city = \"roorkee\", name=\"dJ\")"
   ]
  },
  {
   "cell_type": "code",
   "execution_count": null,
   "id": "9088be62",
   "metadata": {},
   "outputs": [
    {
     "name": "stdout",
     "output_type": "stream",
     "text": [
      "10\n",
      "21\n"
     ]
    }
   ],
   "source": [
    "# *args function\n",
    "def sum_all(*seriess):\n",
    "    total = 0\n",
    "    for i in seriess:\n",
    "        total += i\n",
    "    return total\n",
    "\n",
    "print(sum_all(1,2,3,4))\n",
    "print(sum_all(1,2,3,4,5,6))\n",
    "\n",
    "#**kwargs\n",
    "def print_info(**details):\n",
    "    for key, value in details.items():\n",
    "        print(f\"\")"
   ]
  },
  {
   "cell_type": "markdown",
   "id": "2d28c668",
   "metadata": {},
   "source": [
    "### calculator"
   ]
  },
  {
   "cell_type": "code",
   "execution_count": 21,
   "id": "eb5d5eb1",
   "metadata": {},
   "outputs": [
    {
     "name": "stdout",
     "output_type": "stream",
     "text": [
      "12\n",
      "cannot divide by zero\n",
      "Invalid input\n"
     ]
    }
   ],
   "source": [
    "def calc(operation, num1, num2):\n",
    "    if operation == \"add\":\n",
    "        return num1+num2\n",
    "    elif operation == \"subtract\":\n",
    "        return num1-num2\n",
    "    elif operation == \"multiply\":\n",
    "        return num1*num2\n",
    "    elif operation == \"divide\":\n",
    "        return num1/num2 if num2 != 0 else \"cannot divide by zero\"\n",
    "    else:\n",
    "        return \"Invalid input\"\n",
    "    \n",
    "print(calc(\"add\", 5, 7))\n",
    "print(calc(\"divide\", 5,0))\n",
    "print(calc(\"product\", 5 ,5))"
   ]
  },
  {
   "cell_type": "markdown",
   "id": "b218aa9e",
   "metadata": {},
   "source": [
    "### try except"
   ]
  },
  {
   "cell_type": "code",
   "execution_count": 27,
   "id": "fd75f53c",
   "metadata": {},
   "outputs": [
    {
     "name": "stdout",
     "output_type": "stream",
     "text": [
      "Result:  20.0\n"
     ]
    }
   ],
   "source": [
    "try:\n",
    "    number = float(input(\"Enter number: \"))\n",
    "    result = 100/number\n",
    "    print(\"Result: \",result)\n",
    "except ZeroDivisionError:\n",
    "    print(\"cannot divide by zero\")"
   ]
  },
  {
   "cell_type": "code",
   "execution_count": null,
   "id": "cdccf6ff",
   "metadata": {},
   "outputs": [],
   "source": [
    "# multiple except\n",
    "def read_file(filename):\n",
    "    file = None\n",
    "    try:\n",
    "        print(\"Opening file\")\n",
    "        file = open(\"dj.txt\", \"r\")\n",
    "        content = file.read()\n",
    "        print(\"File content: \", content)\n",
    "        return content\n",
    "    except FileNotFoundError:\n",
    "        print(f\"file {filename} not found\")"
   ]
  },
  {
   "cell_type": "code",
   "execution_count": null,
   "id": "fb13e9d8",
   "metadata": {},
   "outputs": [],
   "source": []
  }
 ],
 "metadata": {
  "kernelspec": {
   "display_name": "Python 3",
   "language": "python",
   "name": "python3"
  },
  "language_info": {
   "codemirror_mode": {
    "name": "ipython",
    "version": 3
   },
   "file_extension": ".py",
   "mimetype": "text/x-python",
   "name": "python",
   "nbconvert_exporter": "python",
   "pygments_lexer": "ipython3",
   "version": "3.13.3"
  }
 },
 "nbformat": 4,
 "nbformat_minor": 5
}
