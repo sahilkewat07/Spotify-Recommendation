{
 "cells": [
  {
   "cell_type": "code",
   "execution_count": 1,
   "id": "42ee283e",
   "metadata": {},
   "outputs": [],
   "source": [
    "import pandas as pd"
   ]
  },
  {
   "cell_type": "code",
   "execution_count": 3,
   "id": "6e0510c2",
   "metadata": {},
   "outputs": [
    {
     "name": "stdout",
     "output_type": "stream",
     "text": [
      "{'name': ['python', 'c', 'c++', 'java'], 'popularity': [12, 13, 14, 15], 'rank': [1, 2, 3, 4]}\n",
      "\n",
      "name          [python, c, c++, java]\n",
      "popularity          [12, 13, 14, 15]\n",
      "rank                    [1, 2, 3, 4]\n",
      "Name: List of Programming Languages, dtype: object\n",
      "\n",
      "1    12\n",
      "2    12\n",
      "3    12\n",
      "4    12\n",
      "5    12\n",
      "dtype: int64 \n",
      "\n",
      "1    12\n",
      "2    12\n",
      "3    12\n",
      "dtype: int64 \n",
      "\n",
      "1    24.0\n",
      "2    24.0\n",
      "3    24.0\n",
      "4     NaN\n",
      "5     NaN\n",
      "dtype: float64\n"
     ]
    }
   ],
   "source": [
    "import pandas as pd\n",
    "\n",
    "dic = {\"name\" : ['python', 'c', 'c++', 'java'], \"popularity\" : [12, 13, 14, 15], \"rank\" : [1,2,3,4]}\n",
    "dic2 = pd.Series(dic, name=\"List of Programming Languages\")\n",
    "print(dic)\n",
    "print()\n",
    "print(dic2)\n",
    "\n",
    "print()\n",
    "s1 = pd.Series(12, index=[1,2,3,4,5])\n",
    "s2 = pd.Series(12,index=[1,2,3])\n",
    "\n",
    "print(s1,\"\\n\")\n",
    "print(s2,\"\\n\")\n",
    "\n",
    "print(s1+s2)"
   ]
  },
  {
   "cell_type": "code",
   "execution_count": 2,
   "id": "cd718dce",
   "metadata": {},
   "outputs": [
    {
     "name": "stdout",
     "output_type": "stream",
     "text": [
      "   0\n",
      "0  1\n",
      "1  2\n",
      "2  4\n",
      "3  5 \n",
      "\n",
      "   a   b\n",
      "0  1  12\n",
      "1  2   5\n",
      "2  3   7\n",
      "3  4   8 \n",
      "\n",
      "   a\n",
      "0  1\n",
      "1  2\n",
      "2  3\n",
      "3  4\n"
     ]
    }
   ],
   "source": [
    "#DataFrame\n",
    "li = [1,2,4,5]\n",
    "dF = pd.DataFrame(li)\n",
    "print(dF,\"\\n\")\n",
    "\n",
    "dic = {\"a\": [1,2,3,4], \"b\":[12,5,7,8]}   #length of array or number of elements should must be same\n",
    "dicDf = pd.DataFrame(dic)\n",
    "print(dicDf,\"\\n\")\n",
    "\n",
    "#if we want to print only one column then it is possible\n",
    "dicDf2 = pd.DataFrame(dic, columns=[\"a\"])\n",
    "print(dicDf2)"
   ]
  },
  {
   "cell_type": "code",
   "execution_count": null,
   "id": "0293e4b7",
   "metadata": {},
   "outputs": [],
   "source": []
  }
 ],
 "metadata": {
  "kernelspec": {
   "display_name": "Python 3",
   "language": "python",
   "name": "python3"
  },
  "language_info": {
   "codemirror_mode": {
    "name": "ipython",
    "version": 3
   },
   "file_extension": ".py",
   "mimetype": "text/x-python",
   "name": "python",
   "nbconvert_exporter": "python",
   "pygments_lexer": "ipython3",
   "version": "3.13.3"
  }
 },
 "nbformat": 4,
 "nbformat_minor": 5
}
