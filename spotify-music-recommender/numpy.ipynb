{
 "cells": [
  {
   "cell_type": "markdown",
   "id": "568edb8b",
   "metadata": {},
   "source": [
    "# NUMPY ARRAY\n"
   ]
  },
  {
   "cell_type": "code",
   "execution_count": 1,
   "id": "3e2c7642",
   "metadata": {},
   "outputs": [],
   "source": [
    "import numpy as np"
   ]
  },
  {
   "cell_type": "markdown",
   "id": "73ccb615",
   "metadata": {},
   "source": [
    "### Trial Codes\n"
   ]
  },
  {
   "cell_type": "code",
   "execution_count": null,
   "id": "f3c0dc16",
   "metadata": {},
   "outputs": [
    {
     "name": "stdout",
     "output_type": "stream",
     "text": [
      "[1 2 3 4]\n",
      "[1, 2, 3, 4]\n"
     ]
    }
   ],
   "source": [
    "arr = np.array([1,2, 3, 4])\n",
    "print(arr)\n",
    "li = [1,2,3,4]\n",
    "print(li)"
   ]
  },
  {
   "cell_type": "markdown",
   "id": "57e57c14",
   "metadata": {},
   "source": [
    "### Creating NUMPY array"
   ]
  },
  {
   "cell_type": "code",
   "execution_count": 8,
   "id": "bd706f14",
   "metadata": {},
   "outputs": [
    {
     "name": "stdout",
     "output_type": "stream",
     "text": [
      "[1 2 3] and it's dimension = 1\n",
      "List =   [8, 3, 66, 4] and type =  <class 'list'>\n",
      "[ 8  3 66  4]  and type = <class 'numpy.ndarray'>\n",
      "Dimension =  1\n"
     ]
    }
   ],
   "source": [
    "import numpy as np\n",
    "arr = np.array([1,2,3])\n",
    "print(arr , \"and it's dimension =\", arr.ndim)\n",
    "\n",
    "li = []  #Empty list\n",
    "\n",
    "\n",
    "for i in range(1, 5):\n",
    "    intInp = int(input(\"Enter element: \"))\n",
    "    li.append(intInp)  #Input elements\n",
    "\n",
    "print(\"List =  \", li, \"and type = \", type(li))\n",
    "\n",
    "npArr = np.array(li)   #converting list into numpy array\n",
    "print(npArr, \" and type =\", type(npArr))\n",
    "\n",
    "\n",
    "print(\"Dimension = \", npArr.ndim)   #printing it's dimension\n",
    "\n"
   ]
  },
  {
   "cell_type": "markdown",
   "id": "f0f641e3",
   "metadata": {},
   "source": [
    "### Dimension of numpy array\n"
   ]
  },
  {
   "cell_type": "code",
   "execution_count": null,
   "id": "97e2cf02",
   "metadata": {},
   "outputs": [
    {
     "name": "stdout",
     "output_type": "stream",
     "text": [
      "3\n",
      "[[[ 2  3  4  5]\n",
      "  [ 1  2  4  5]\n",
      "  [ 7 39  1  5]]]\n",
      "[[[[[[[[[[2 3 5 7]]]]]]]]]] dimension = 10\n"
     ]
    }
   ],
   "source": [
    "arr = np.array([[[2,3,4,5], [1,2,4,5], [7,39,1,5]]])\n",
    "print(arr.ndim)\n",
    "print(arr)\n",
    "\n",
    "#If we want to create array of 10 dimensions\n",
    "arr10Dim = np.array([2,3,5,7], ndmin = 10)\n",
    "print(arr10Dim, \"dimension =\", arr10Dim.ndim)"
   ]
  },
  {
   "cell_type": "markdown",
   "id": "246c8dad",
   "metadata": {},
   "source": [
    "### Special numpy arrays"
   ]
  },
  {
   "cell_type": "code",
   "execution_count": null,
   "id": "ede18329",
   "metadata": {},
   "outputs": [
    {
     "name": "stdout",
     "output_type": "stream",
     "text": [
      "[0. 0. 0. 0. 0.] and dataType of elements: float64 and dimension: 1\n",
      "[[0. 0. 0. 0.]\n",
      " [0. 0. 0. 0.]\n",
      " [0. 0. 0. 0.]] dataType of element: float64 and dimension: 2\n",
      "\n",
      "[1. 1. 1. 1. 1.] and dataType: float64 and dimension: 1\n",
      "[[1. 1. 1. 1. 1.]\n",
      " [1. 1. 1. 1. 1.]\n",
      " [1. 1. 1. 1. 1.]\n",
      " [1. 1. 1. 1. 1.]]\n",
      "\n",
      "[ 5. 10. 15. 20.]\n",
      "\n",
      "[0 1 2 3 4 5]\n",
      "Array was reshaped 2X3: \n",
      " [[0 1 2]\n",
      " [3 4 5]]\n",
      "\n",
      "[[1. 0. 0. 0. 0.]\n",
      " [0. 1. 0. 0. 0.]\n",
      " [0. 0. 1. 0. 0.]\n",
      " [0. 0. 0. 1. 0.]\n",
      " [0. 0. 0. 0. 1.]] dimension: 2\n",
      "\n",
      "[ 0.  4.  8. 12. 16. 20.]\n"
     ]
    }
   ],
   "source": [
    "#arrays with value zeroes\n",
    "arrOfZeros = np.zeros(5)\n",
    "print(arrOfZeros, \"and dataType of elements:\", arrOfZeros.dtype, \"and dimension:\", arrOfZeros.ndim)\n",
    "\n",
    "arr3Row4Col = np.zeros((3,4))  #zero array with row = 3 and column = 4\n",
    "print(arr3Row4Col, \"dataType of element:\", arr3Row4Col.dtype, \"and dimension:\", arr3Row4Col.ndim)\n",
    "print()\n",
    "\n",
    "#arrays with value 1\n",
    "arrOfOne = np.ones(5)\n",
    "print(arrOfOne, \"and dataType:\", arrOfOne.dtype, \"and dimension:\", arrOfOne.ndim)\n",
    "arrOneB = np.ones((4,5))\n",
    "print(arrOneB)\n",
    "print()\n",
    "\n",
    "\n",
    "#Empty array\n",
    "arr_emp = np.empty(4)\n",
    "print(arr_emp)  #it will print some garbage values\n",
    "print()\n",
    "\n",
    "#range of numbers\n",
    "arrRange = np.arange(6)\n",
    "print(arrRange)\n",
    "\n",
    "reshaped = arrRange.reshape(2,3)\n",
    "print(\"Array was reshaped 2X3: \\n\",reshaped)\n",
    "print()\n",
    "\n",
    "#array diagonal elements filled with 1's  (value of diagonal = 1)\n",
    "arr_diag = np.eye(5)\n",
    "print(arr_diag, \"dimension:\", arr_diag.ndim)\n",
    "print()\n",
    "\n",
    "#array with values that are spaced linearly in a specified interval\n",
    "arrLinSpc = np.linspace(0,20, num=6)  #here num is the number of elements which is present inside array\n",
    "print(arrLinSpc)"
   ]
  },
  {
   "cell_type": "markdown",
   "id": "d57b2770",
   "metadata": {},
   "source": [
    "### Numpy array with random numbers"
   ]
  },
  {
   "cell_type": "code",
   "execution_count": 19,
   "id": "1acd451c",
   "metadata": {},
   "outputs": [
    {
     "name": "stdout",
     "output_type": "stream",
     "text": [
      "var = [0.6147173  0.12165531 0.77496425 0.26924237 0.44237996] \n",
      "\n",
      "var1 = [[0.60299806 0.751468   0.60466191 0.40892529 0.04904875 0.35138121\n",
      "  0.38766443]\n",
      " [0.53862694 0.49848687 0.76019432 0.3624028  0.76439064 0.57659408\n",
      "  0.34303531]\n",
      " [0.04244124 0.22869754 0.11798768 0.82707566 0.58609944 0.28828673\n",
      "  0.33630349]\n",
      " [0.23797587 0.95225701 0.36351261 0.16131664 0.5630826  0.01220486\n",
      "  0.68758802]] \n",
      "\n",
      "Dimension  2 \n",
      "\n",
      "var3 = [ 1.43146303 -0.35449466 -1.40542752 -1.42050897  0.49754446  0.11391981] \n",
      "\n",
      "var4 = [9.02010366e-01 5.35807448e-01 8.29327521e-01 6.90793063e-01\n",
      " 3.18334061e-04] \n",
      "\n",
      "[[0.46201554 0.83122589 0.21575855 0.21193026]\n",
      " [0.57368085 0.4921631  0.43946449 0.94651091]\n",
      " [0.71041717 0.91433176 0.40302112 0.35412474]] \n",
      "\n",
      "var5 = [ 7 37 34 29 15 18 40  9 24] \n",
      "\n"
     ]
    }
   ],
   "source": [
    "# rand() - generate random number between 0 to 1\n",
    "import numpy as np\n",
    "var = np.random.rand(5)\n",
    "print(\"var =\", var,\"\\n\")\n",
    "var1 = np.random.rand(4,7)   #4 rows and 7 columns\n",
    "print(\"var1 =\",var1,\"\\n\")\n",
    "print(\"Dimension \", var1.ndim, \"\\n\")\n",
    "\n",
    "\n",
    "#randn() - used to generate a random value close to zero. This may return positive or negative numbers as well\n",
    "var3 = np.random.randn(6)\n",
    "print(\"var3 =\", var3,\"\\n\")\n",
    "\n",
    "\n",
    "# #ranf() -- used to generate numbers between interval[0.0, 1.0] and 1 is not included\n",
    "var4 = np.random.ranf(5)\n",
    "print(\"var4 =\", var4,\"\\n\")\n",
    "randomMAtrix = np.random.ranf(size=(3,4))\n",
    "print(randomMAtrix,\"\\n\")\n",
    "\n",
    "\n",
    "#randint() -- used to generate random number between given range\n",
    "#Syntax randint(minVal, maxVal, totalElement)\n",
    "var5 = np.random.randint(2,50,9)\n",
    "print(\"var5 =\", var5,\"\\n\")"
   ]
  },
  {
   "cell_type": "markdown",
   "id": "658d29d9",
   "metadata": {},
   "source": [
    "### DataTypes"
   ]
  },
  {
   "cell_type": "code",
   "execution_count": 15,
   "id": "a012ad4b",
   "metadata": {},
   "outputs": [
    {
     "name": "stdout",
     "output_type": "stream",
     "text": [
      "[1.  2.  3.3] float64\n",
      "DataType: int64\n",
      "DataType: float64 \n",
      "\n",
      "int8\n",
      "float32 \n",
      "\n",
      "float64\n",
      "[ 3.  9. 12.]\n",
      "Datatype:  int64\n",
      "\n",
      "int64\n",
      "float64\n"
     ]
    }
   ],
   "source": [
    "var = np.array([1,2,3.3])\n",
    "print(var, var.dtype)\n",
    "\n",
    "#characters that are used to represent dataType i-int b-bool u-unsigned f-float o-object s-string\n",
    "#Conversion from one type to another\n",
    "x = np.array([3,9,12])\n",
    "print(\"DataType:\",x.dtype)\n",
    "newX = np.float64(x)\n",
    "print(\"DataType:\",newX.dtype,\"\\n\")\n",
    "\n",
    "\n",
    "x1 = np.array([1,2,3,4], dtype=np.int8)\n",
    "print(x1.dtype)\n",
    "x2 = np.array([1,2,3], dtype=\"f\")\n",
    "print(x2.dtype,\"\\n\")\n",
    "\n",
    "x3 = np.float64(x)  #data is copied and converted into float\n",
    "print(x3.dtype)\n",
    "print(x3)\n",
    "x = x3.astype(int)\n",
    "print(\"Datatype: \",x.dtype)\n",
    "print()\n",
    "\n",
    "\n",
    "newArr = np.array([11,2,3,4])\n",
    "print(newArr.dtype)\n",
    "newArr = newArr.astype(float)\n",
    "print(newArr.dtype)"
   ]
  },
  {
   "cell_type": "markdown",
   "id": "e1d0705b",
   "metadata": {},
   "source": [
    "### Arithematic Operator"
   ]
  },
  {
   "cell_type": "code",
   "execution_count": 8,
   "id": "e2dc0092",
   "metadata": {},
   "outputs": [
    {
     "name": "stdout",
     "output_type": "stream",
     "text": [
      "[1 2 3 4] [4 5 6 7]\n",
      "[ 5  7  9 11]\n",
      "[4 5 6 7]\n",
      "[[2 4 6]\n",
      " [5 7 9]]\n",
      "\n",
      "[3 3 3 3]  \n",
      "\n",
      "[9 9 9 9] \n",
      "\n",
      "[1. 1. 1. 1.] \n",
      "\n",
      "[ 1  4  9 16] \n",
      "\n",
      "[1.         0.25       0.11111111 0.0625    ]\n"
     ]
    }
   ],
   "source": [
    "#add\n",
    "add1 = np.array([1,2,3,4])  # we can't write np.array([1,2,3] + 3)\n",
    "add2 = add1 + 3\n",
    "print(add1, add2)    #we can write this in this form as well np.add(add1, add2)\n",
    "\n",
    "add3 = add1 + add2\n",
    "print(add3)\n",
    "\n",
    "add4 = np.add(add1, 3)\n",
    "print(add4)\n",
    "\n",
    "# operations on 2D array\n",
    "x1 = np.array([[1,2,3], [4,5,6]])\n",
    "x2 = np.array([[1,2,3], [1,2,3]])\n",
    "x1Addx2 = np.add(x1,x2)\n",
    "print(x1Addx2)\n",
    "print()\n",
    "\n",
    "#other operations\n",
    "diff1 = np.subtract(add2,add1)\n",
    "print(diff1, \" \\n\")\n",
    "\n",
    "#like add, subtract we have multiply, divide, power, mod, reciprocol\n",
    "prod = np.multiply(diff1,3)\n",
    "print(prod,\"\\n\")\n",
    "\n",
    "divid = np.divide(diff1,3)\n",
    "print(divid,\"\\n\")\n",
    "\n",
    "powerArr = np.power(add1,2)\n",
    "print(powerArr,\"\\n\")\n",
    "\n",
    "powerArr = powerArr.astype(float)\n",
    "reciP = np.reciprocal(powerArr)\n",
    "print(reciP)\n"
   ]
  },
  {
   "cell_type": "markdown",
   "id": "a440eb56",
   "metadata": {},
   "source": [
    "### Arithmetic function"
   ]
  },
  {
   "cell_type": "code",
   "execution_count": 18,
   "id": "d63050df",
   "metadata": {},
   "outputs": [
    {
     "name": "stdout",
     "output_type": "stream",
     "text": [
      "8 is found at index 2\n",
      "8  is found at index 4\n",
      "[ 2.  8. 13. 16.  9.]\n",
      "sin value of [  4  64 169 256  81] [-0.7568025   0.92002604 -0.60199987 -0.99920803 -0.62988799]\n",
      "Cos value of [  4  64 169 256  81] [-0.65364362  0.39185723  0.79849619 -0.03979076  0.77668598]\n",
      "[ 1  3  6 10 15 21]\n",
      "\n",
      "[[2 1 3]\n",
      " [9 5 6]] and dimension: 2 \n",
      "\n",
      "[3 9] and index: [2 0]\n",
      "[2 1 3] and index: [0 0 0]\n"
     ]
    }
   ],
   "source": [
    "arr= np.array([2,3,1,5,8,4])\n",
    "\n",
    "print(np.max(arr), \"is found at index\", np.argmin(arr))\n",
    "print(np.max(arr),\" is found at index\", np.argmax(arr))\n",
    "\n",
    "arr1 = np.array([4,64,169,256,81])\n",
    "print(np.sqrt(arr1))\n",
    "#similarly we have functions like sin cos cumsum etc\n",
    "print(\"sin value of\",arr1, np.sin(arr1))\n",
    "print(\"Cos value of\",arr1, np.cos(arr1))\n",
    "\n",
    "#cumsum = sum of previous element\n",
    "arr2 = np.array([1,2,3,4,5,6])\n",
    "print(np.cumsum(arr2))\n",
    "\n",
    "#finding min and max in 2d arrays\n",
    "#if we want to search row wise then we have to set value of axis = 1\n",
    "#and if we want to search column wise we have to set value of axis = 0\n",
    "\n",
    "\n",
    "print()\n",
    "var1 = np.array([[2,1,3], [9,5,6]])\n",
    "\n",
    "print(var1, \"and dimension:\",var1.ndim, \"\\n\")\n",
    "\n",
    "print(np.max(var1, axis=1), \"and index:\",np.argmax(var1, axis=1))  #row wise\n",
    "print(np.min(var1, axis=0), \"and index:\", np.argmin(var1,axis=0))  #column wise\n"
   ]
  },
  {
   "cell_type": "markdown",
   "id": "4222a765",
   "metadata": {},
   "source": [
    "### Shape and ReShape"
   ]
  },
  {
   "cell_type": "code",
   "execution_count": 35,
   "id": "2e4567b7",
   "metadata": {},
   "outputs": [
    {
     "name": "stdout",
     "output_type": "stream",
     "text": [
      "[[1 2 3]\n",
      " [1 2 3]] \n",
      " (2, 3)\n",
      "2\n",
      "\n",
      "[[1]\n",
      " [2]\n",
      " [3]] \n",
      " (3, 1)\n",
      "\n",
      "[[[[1 2 3 4]]]] \n",
      " (1, 1, 1, 4) \n",
      "\n",
      "[1 2 3 4 5 6]\n",
      "[[1 2]\n",
      " [3 4]\n",
      " [5 6]]\n",
      "\n",
      "[ 1  2  3  4  5  6  7  8  9 10 11 12] \n",
      "\n",
      "[[[ 1  2]\n",
      "  [ 3  4]\n",
      "  [ 5  6]]\n",
      "\n",
      " [[ 7  8]\n",
      "  [ 9 10]\n",
      "  [11 12]]]\n"
     ]
    }
   ],
   "source": [
    "#array.shape is used to print shape of the array\n",
    "arr = np.array([[1,2,3], [1,2,3]])\n",
    "print(arr,\"\\n\",arr.shape)\n",
    "print(arr.ndim)\n",
    "print()\n",
    "\n",
    "\n",
    "arr2 = np.array([[1],[2],[3]])\n",
    "print(arr2,\"\\n\", arr2.shape)\n",
    "print()\n",
    "\n",
    "var1 = np.array([1,2,3,4], ndmin=4)\n",
    "print(var1,\"\\n\", var1.shape,\"\\n\")\n",
    "\n",
    "#reshape(2,3) 2 - row and 3 column\n",
    "arr3 = np.array([1,2,3,4,5,6])\n",
    "print(arr3)\n",
    "print(arr3.reshape(3,2))\n",
    "print()\n",
    "\n",
    "arr4 = np.arange(1,13)  #or np.linespace(1,12,12,dtype=int) \n",
    "print(arr4,\"\\n\")\n",
    "print(arr4.reshape(2,3,2))"
   ]
  },
  {
   "cell_type": "code",
   "execution_count": null,
   "id": "7a73b7b3",
   "metadata": {},
   "outputs": [],
   "source": []
  }
 ],
 "metadata": {
  "kernelspec": {
   "display_name": "Python 3",
   "language": "python",
   "name": "python3"
  },
  "language_info": {
   "codemirror_mode": {
    "name": "ipython",
    "version": 3
   },
   "file_extension": ".py",
   "mimetype": "text/x-python",
   "name": "python",
   "nbconvert_exporter": "python",
   "pygments_lexer": "ipython3",
   "version": "3.13.3"
  }
 },
 "nbformat": 4,
 "nbformat_minor": 5
}
